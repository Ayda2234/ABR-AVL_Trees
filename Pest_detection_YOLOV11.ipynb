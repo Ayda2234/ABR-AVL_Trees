{
  "nbformat": 4,
  "nbformat_minor": 0,
  "metadata": {
    "colab": {
      "provenance": [],
      "authorship_tag": "ABX9TyN9TVmT/OZ1VBtkCYMB11kK",
      "include_colab_link": true
    },
    "kernelspec": {
      "name": "python3",
      "display_name": "Python 3"
    },
    "language_info": {
      "name": "python"
    }
  },
  "cells": [
    {
      "cell_type": "markdown",
      "metadata": {
        "id": "view-in-github",
        "colab_type": "text"
      },
      "source": [
        "<a href=\"https://colab.research.google.com/github/Ayda2234/ABR-AVL_Trees/blob/main/Pest_detection_YOLOV11.ipynb\" target=\"_parent\"><img src=\"https://colab.research.google.com/assets/colab-badge.svg\" alt=\"Open In Colab\"/></a>"
      ]
    },
    {
      "cell_type": "code",
      "execution_count": null,
      "metadata": {
        "id": "p2IgpRfhqwgz"
      },
      "outputs": [],
      "source": [
        "from google.colab import drive\n",
        "drive.mount('/content/drive')"
      ]
    },
    {
      "cell_type": "code",
      "source": [
        "!pip install ultralytics"
      ],
      "metadata": {
        "id": "NSyJJ-VprWe_"
      },
      "execution_count": null,
      "outputs": []
    },
    {
      "cell_type": "code",
      "source": [
        "from ultralytics import YOLO\n",
        "\n",
        "print(\"Ultralytics YOLO installed successfully!\")"
      ],
      "metadata": {
        "id": "KQuNVdCLrYNE"
      },
      "execution_count": null,
      "outputs": []
    },
    {
      "cell_type": "markdown",
      "source": [
        "**Set Paths for Training**"
      ],
      "metadata": {
        "id": "DfeVQFjUr1sS"
      }
    },
    {
      "cell_type": "code",
      "source": [
        "dataset_path = \"/content/drive/MyDrive/dataset\"  # Change to your actual dataset path\n",
        "\n",
        "train_images = f\"{dataset_path}/images/train\"\n",
        "val_images = f\"{dataset_path}/images/val\"\n",
        "\n",
        "train_labels = f\"{dataset_path}/labels/train\"\n",
        "val_labels = f\"{dataset_path}/labels/val\""
      ],
      "metadata": {
        "id": "heM85OzIrZ9Q"
      },
      "execution_count": null,
      "outputs": []
    },
    {
      "cell_type": "markdown",
      "source": [
        "**Create a YOLO Dataset YAML File**"
      ],
      "metadata": {
        "id": "K3D4fTg9r6ZH"
      }
    },
    {
      "cell_type": "code",
      "source": [
        "dataset_yaml = f\"{dataset_path}/dataset.yaml\"\n",
        "\n",
        "with open(dataset_yaml, \"w\") as f:\n",
        "    f.write(f\"\"\"\n",
        "path: {dataset_path}\n",
        "train: images/train\n",
        "val: images/val\n",
        "test: images/test\n",
        "\n",
        "nc: {len(open(dataset_path + \"/classes.txt\").read().strip().splitlines())}  # Number of classes\n",
        "names: {open(dataset_path + \"/classes.txt\").read().strip().splitlines()}  # Class names\n",
        "\"\"\")\n",
        "\n",
        "print(\"Dataset YAML file created successfully!\")"
      ],
      "metadata": {
        "id": "U4IIqKIXrbtr"
      },
      "execution_count": null,
      "outputs": []
    },
    {
      "cell_type": "markdown",
      "source": [
        "Train **YOLOv11**"
      ],
      "metadata": {
        "id": "_eLlKWS8sA8O"
      }
    },
    {
      "cell_type": "code",
      "source": [
        "model = YOLO(\"yolov11n.pt\")  # Using the nano version (change to yolov11s.pt for larger models)\n",
        "\n",
        "model.train(\n",
        "    data=dataset_yaml,  # Path to dataset.yaml\n",
        "    epochs=50,          # Adjust based on your needs\n",
        "    imgsz=640,          # Image size (640 is a good default)\n",
        "    batch=16,           # Adjust based on your GPU memory\n",
        "    device=\"cuda\"       # Use GPU if available\n",
        ")"
      ],
      "metadata": {
        "id": "YquZRZXJrheC"
      },
      "execution_count": null,
      "outputs": []
    },
    {
      "cell_type": "markdown",
      "source": [
        "**Check Training Results**"
      ],
      "metadata": {
        "id": "43Ux2klBsEBr"
      }
    },
    {
      "cell_type": "code",
      "source": [
        "!ls runs/detect/train"
      ],
      "metadata": {
        "id": "Jh7OWJAzrlwl"
      },
      "execution_count": null,
      "outputs": []
    },
    {
      "cell_type": "markdown",
      "source": [
        "**For visualization**"
      ],
      "metadata": {
        "id": "x7pBa8vpsOHB"
      }
    },
    {
      "cell_type": "code",
      "source": [
        "from IPython.display import Image\n",
        "Image(filename=\"runs/detect/train/confusion_matrix.png\")  # View confusion matrix"
      ],
      "metadata": {
        "id": "kTE-QUlYro6u"
      },
      "execution_count": null,
      "outputs": []
    },
    {
      "cell_type": "markdown",
      "source": [
        "**Run Inference on New Images**"
      ],
      "metadata": {
        "id": "vBebOuMpsUrH"
      }
    },
    {
      "cell_type": "code",
      "source": [
        "model = YOLO(\"runs/detect/train/weights/best.pt\")  # Load trained model\n",
        "\n",
        "results = model.predict(source=\"/content/drive/MyDrive/sample.jpg\", show=True)"
      ],
      "metadata": {
        "id": "FuU7tS7Urp6o"
      },
      "execution_count": null,
      "outputs": []
    },
    {
      "cell_type": "code",
      "source": [],
      "metadata": {
        "id": "xTVH-WpgrryB"
      },
      "execution_count": null,
      "outputs": []
    }
  ]
}